{
 "cells": [
  {
   "cell_type": "code",
   "execution_count": 9,
   "id": "89be71e9",
   "metadata": {},
   "outputs": [
    {
     "name": "stdout",
     "output_type": "stream",
     "text": [
      "addition of 40and 60is 100\n"
     ]
    }
   ],
   "source": [
    "x=40\n",
    "y=60\n",
    "addition=x+y\n",
    "\n",
    "print(f\"addition of {x}and {y}is {addition}\")"
   ]
  },
  {
   "cell_type": "code",
   "execution_count": 3,
   "id": "95068f69",
   "metadata": {},
   "outputs": [
    {
     "name": "stdout",
     "output_type": "stream",
     "text": [
      "addition of a and b is sum\n"
     ]
    }
   ],
   "source": [
    "a=30\n",
    "b=40\n",
    "sum = a+b\n",
    "result= \"addition of a and b is sum\"\n",
    "print(result)"
   ]
  },
  {
   "cell_type": "code",
   "execution_count": null,
   "id": "cfbc30c9",
   "metadata": {},
   "outputs": [],
   "source": []
  },
  {
   "cell_type": "code",
   "execution_count": 11,
   "id": "f643b147",
   "metadata": {},
   "outputs": [
    {
     "name": "stdout",
     "output_type": "stream",
     "text": [
      "('addition of 20 and 40 is', 70)\n"
     ]
    }
   ],
   "source": [
    "a=30\n",
    "b=40\n",
    "sum = a+b\n",
    "result= (\"addition of 20 and 40 is\", sum)\n",
    "print(result)"
   ]
  },
  {
   "cell_type": "code",
   "execution_count": 15,
   "id": "e28f21eb",
   "metadata": {},
   "outputs": [
    {
     "name": "stdout",
     "output_type": "stream",
     "text": [
      "addition of 30 and 40 is sum\n"
     ]
    }
   ],
   "source": [
    "a=30\n",
    "b=40\n",
    "sum = a+b\n",
    "result= \"addition of 30 and 40 is sum\"\n",
    "print(result)"
   ]
  },
  {
   "cell_type": "code",
   "execution_count": 12,
   "id": "9128d83a",
   "metadata": {},
   "outputs": [
    {
     "name": "stdout",
     "output_type": "stream",
     "text": [
      "('addition of 30 and 40 is ', 70)\n"
     ]
    }
   ],
   "source": [
    "a=30\n",
    "b=40\n",
    "sum = a+b\n",
    "result= (\"addition of 30 and 40 is \" ,sum)\n",
    "print(result)"
   ]
  },
  {
   "cell_type": "code",
   "execution_count": 4,
   "id": "4bc9d5fd",
   "metadata": {},
   "outputs": [
    {
     "name": "stdout",
     "output_type": "stream",
     "text": [
      "addition of 30 and 40 is sum\n"
     ]
    }
   ],
   "source": [
    "a=30\n",
    "b=40\n",
    "sum = a+b\n",
    "result= ()\"addition of 30 and 40 is \"sum)\n",
    "print(result)"
   ]
  },
  {
   "cell_type": "code",
   "execution_count": 4,
   "id": "b9233fd7",
   "metadata": {},
   "outputs": [
    {
     "name": "stdout",
     "output_type": "stream",
     "text": [
      "addition of 30 and 40 is sum\n"
     ]
    }
   ],
   "source": [
    "a=30\n",
    "b=40\n",
    "sum = a+b\n",
    "result= ()\"addition of 30 and 40 is \"sum)\n",
    "print(result)"
   ]
  },
  {
   "cell_type": "code",
   "execution_count": 19,
   "id": "519345a5",
   "metadata": {},
   "outputs": [
    {
     "name": "stdout",
     "output_type": "stream",
     "text": [
      "substraction of 50 and 20 is substraction\n"
     ]
    }
   ],
   "source": [
    "x=50 \n",
    "y=20\n",
    "substraction = x-y\n",
    "print(f\"substraction of 50 and 20 is substraction\")\n"
   ]
  },
  {
   "cell_type": "code",
   "execution_count": 18,
   "id": "85a49bab",
   "metadata": {},
   "outputs": [
    {
     "name": "stdout",
     "output_type": "stream",
     "text": [
      "multipication of 40 and 45 is 1800\n"
     ]
    }
   ],
   "source": [
    "a=40\n",
    "b=45\n",
    "multipication = a*b\n",
    "print (f\"multipication of {40} and {45} is {multipication}\")"
   ]
  },
  {
   "cell_type": "markdown",
   "id": "9576627f",
   "metadata": {},
   "source": [
    "# Formatting of f-string"
   ]
  },
  {
   "cell_type": "code",
   "execution_count": 20,
   "id": "f7a3be36",
   "metadata": {},
   "outputs": [
    {
     "name": "stdout",
     "output_type": "stream",
     "text": [
      "sum of 40 and 30 is  70\n"
     ]
    }
   ],
   "source": [
    "print(\"sum of 40 and 30 is \" ,sum)"
   ]
  },
  {
   "cell_type": "code",
   "execution_count": 22,
   "id": "4afdeb06",
   "metadata": {},
   "outputs": [
    {
     "name": "stdout",
     "output_type": "stream",
     "text": [
      "addition of 30 and 40 is 100\n"
     ]
    }
   ],
   "source": [
    "print(f\"addition of {30} and {40} is {addition}\")"
   ]
  },
  {
   "cell_type": "code",
   "execution_count": 26,
   "id": "14cc8d4a",
   "metadata": {},
   "outputs": [
    {
     "name": "stdout",
     "output_type": "stream",
     "text": [
      "Multiplication of 4 and 5 is 20\n"
     ]
    }
   ],
   "source": [
    "print(f\"Multiplication of {4} and {5} is {4*5}\")"
   ]
  },
  {
   "cell_type": "code",
   "execution_count": 27,
   "id": "f18d30ea",
   "metadata": {},
   "outputs": [
    {
     "name": "stdout",
     "output_type": "stream",
     "text": [
      "sum of 40and 30 sub 20 multiply -1130\n"
     ]
    }
   ],
   "source": [
    "a=40\n",
    "b=30\n",
    "c=20\n",
    "d=60\n",
    "result= a+b-c*d\n",
    "print(f\"sum of {a}and {b} sub {c} multiply {result}\")"
   ]
  },
  {
   "cell_type": "markdown",
   "id": "78f9da73",
   "metadata": {},
   "source": [
    "# Formatting with Format() string method"
   ]
  },
  {
   "cell_type": "code",
   "execution_count": 29,
   "id": "7227eb8b",
   "metadata": {},
   "outputs": [
    {
     "name": "stdout",
     "output_type": "stream",
     "text": [
      "addition of 20 and 40 is 60\n"
     ]
    }
   ],
   "source": [
    "a=20\n",
    "b=40\n",
    "addition =a+b\n",
    "print(\"addition of {} and {} is {}\". format(a,b,addition))"
   ]
  },
  {
   "cell_type": "code",
   "execution_count": 32,
   "id": "b166a417",
   "metadata": {},
   "outputs": [
    {
     "name": "stdout",
     "output_type": "stream",
     "text": [
      "sum of 90 and 40 is 50\n"
     ]
    }
   ],
   "source": [
    "x=40\n",
    "y=50\n",
    "sum =x+y\n",
    "print(\"sum of {2} and {0} is {1}\". format(x,y,sum))"
   ]
  },
  {
   "cell_type": "code",
   "execution_count": 33,
   "id": "24b72900",
   "metadata": {},
   "outputs": [
    {
     "name": "stdout",
     "output_type": "stream",
     "text": [
      "The of 50 and 60 is 3000 and div 0.8333333333333334 \n"
     ]
    }
   ],
   "source": [
    "a=50\n",
    "b=60\n",
    "mul=a*b\n",
    "div=a/b\n",
    "\n",
    "print(\"The of {0} and {1} is {2} and div {3} \".format(a,b,mul,div))"
   ]
  },
  {
   "cell_type": "markdown",
   "id": "679d36f7",
   "metadata": {},
   "source": [
    "# Formatting with % operator"
   ]
  },
  {
   "cell_type": "code",
   "execution_count": 34,
   "id": "f250b4e0",
   "metadata": {},
   "outputs": [
    {
     "name": "stdout",
     "output_type": "stream",
     "text": [
      "add of 20 and 30 is 50\n"
     ]
    }
   ],
   "source": [
    "a=20\n",
    "b=30\n",
    "add =a+b \n",
    "print(\"add of %d and %d is %d\"%(a,b,add))"
   ]
  },
  {
   "cell_type": "code",
   "execution_count": 36,
   "id": "4bab6bcc",
   "metadata": {},
   "outputs": [
    {
     "name": "stdout",
     "output_type": "stream",
     "text": [
      "add of 40 and 13.400000 is 53.400000\n"
     ]
    }
   ],
   "source": [
    "x=40\n",
    "y=13.4\n",
    "add=x+y\n",
    "print(\"add of %d and %2f is %2f\"%(x,y,add))"
   ]
  },
  {
   "cell_type": "code",
   "execution_count": 40,
   "id": "577e30bc",
   "metadata": {},
   "outputs": [
    {
     "name": "stdout",
     "output_type": "stream",
     "text": [
      " Add of 20 and 30.5is 50.5\n",
      " Add of 20 and 30.5 is 50.5\n",
      "Add of 20 and 30 is 50\n",
      "Add of 20 and 30.500000 is 50.500000\n"
     ]
    }
   ],
   "source": [
    "a=20\n",
    "b=30.5\n",
    "c=a+b\n",
    "print(f\" Add of {a} and {b}is {c}\")\n",
    "print(\" Add of {} and {} is {}\".format(a,b,c))\n",
    "print(\"Add of %d and %d is %d\"%(a,b,c))\n",
    "print(\"Add of %d and %3f is %2f\"%(a,b,c))"
   ]
  },
  {
   "cell_type": "markdown",
   "id": "a3838e7b",
   "metadata": {},
   "source": [
    "# # Homework"
   ]
  },
  {
   "cell_type": "code",
   "execution_count": 2,
   "id": "742cc580",
   "metadata": {},
   "outputs": [
    {
     "name": "stdout",
     "output_type": "stream",
     "text": [
      "add of a and b is sum 90\n",
      "add of 40 and 50 is 90\n",
      "add of 40 and 50 is 90\n",
      "add of 40 and 50 is 90\n",
      "add of 40 and 50.000000 is 90.000000\n"
     ]
    }
   ],
   "source": [
    "a=40\n",
    "b=50\n",
    "c=a+b\n",
    "print(\"add of a and b is sum\",c) \n",
    "print(f\"add of {a} and {b} is {c}\")\n",
    "print(\"add of {} and {} is {}\". format(a,b,c))\n",
    "print(\"add of %d and %d is %d\"%(a,b,c))\n",
    "print(\"add of %d and %2f is %2f\"%(a,b,c))"
   ]
  },
  {
   "cell_type": "code",
   "execution_count": null,
   "id": "2c0bd78b",
   "metadata": {},
   "outputs": [],
   "source": []
  }
 ],
 "metadata": {
  "kernelspec": {
   "display_name": "Python 3 (ipykernel)",
   "language": "python",
   "name": "python3"
  },
  "language_info": {
   "codemirror_mode": {
    "name": "ipython",
    "version": 3
   },
   "file_extension": ".py",
   "mimetype": "text/x-python",
   "name": "python",
   "nbconvert_exporter": "python",
   "pygments_lexer": "ipython3",
   "version": "3.9.12"
  }
 },
 "nbformat": 4,
 "nbformat_minor": 5
}
